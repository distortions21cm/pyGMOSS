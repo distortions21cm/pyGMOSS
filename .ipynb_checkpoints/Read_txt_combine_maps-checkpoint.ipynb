{
 "cells": [
  {
   "cell_type": "code",
   "execution_count": 1,
   "metadata": {},
   "outputs": [],
   "source": [
    "import numpy as np\n",
    "import matplotlib.pyplot as plt\n",
    "import healpy as hp"
   ]
  },
  {
   "cell_type": "code",
   "execution_count": 5,
   "metadata": {},
   "outputs": [],
   "source": [
    "#define PCHANNEL_WIDTH 16.0*0.06103515625 /* MHz */\n",
    "#define PNUMBER_OF_CHANNELS 41 \n",
    "#define PSTART_FREQUENCY 210.44921875 /* MHz */\n",
    "\n",
    "#define RCHANNEL_WIDTH 16.0*0.06103515625 /* MHz */\n",
    "#define RNUMBER_OF_CHANNELS 103 \n",
    "#define RSTART_FREQUENCY 109.86328125 /* MHz */\n",
    "\n",
    "#define QCHANNEL_WIDTH 16.0*0.06103515625 /* MHz */\n",
    "#define QNUMBER_OF_CHANNELS 72 \n",
    "#define QSTART_FREQUENCY 39.5507812500 /* MHz */"
   ]
  },
  {
   "cell_type": "code",
   "execution_count": 28,
   "metadata": {},
   "outputs": [
    {
     "name": "stdout",
     "output_type": "stream",
     "text": [
      "(3072, 41)\n"
     ]
    }
   ],
   "source": [
    "PATH = \"/Users/jishnu/codespace/spcgen_saras3/\"\n",
    "fname_p = \"total_model_spec_31jan17_210_250_16spacing.txt\" #P?\n",
    "fname_r = \"total_model_spec_13jan17_3072pix_103fq.txt\" #R?\n",
    "fname_q = \"total_model_spec_24jan17_1_3072_freq_40_110_MHz_16spacing.txt\" #Q?\n",
    "\n",
    "map_data_p = np.loadtxt(PATH+fname_p, skiprows=1)\n",
    "map_data_q = np.loadtxt(PATH+fname_q, skiprows=1)\n",
    "map_data_r = np.loadtxt(PATH+fname_r, skiprows=1)\n",
    "\n",
    "print (map_data.shape)\n",
    "freq_q = np.linspace(39.550781250, 39.550781250 + 72*16.0*0.06103515625, 72)\n",
    "freq_r = np.linspace(109.86328125, 109.86328125 + 41*16.0*0.06103515625, 103)\n",
    "freq_p = np.linspace(210.44921875, 210.44921875 + 41*16.0*0.06103515625, 41)"
   ]
  },
  {
   "cell_type": "code",
   "execution_count": 33,
   "metadata": {},
   "outputs": [
    {
     "name": "stdout",
     "output_type": "stream",
     "text": [
      "250.48828125\n",
      "109.86328125\n",
      "149.90234375\n"
     ]
    }
   ],
   "source": [
    "print (freq_p[-1])\n",
    "print (freq_q[-1])\n",
    "print (freq_r[-1])"
   ]
  },
  {
   "cell_type": "code",
   "execution_count": 30,
   "metadata": {},
   "outputs": [
    {
     "data": {
      "text/plain": [
       "[<matplotlib.lines.Line2D at 0x122598f98>]"
      ]
     },
     "execution_count": 30,
     "metadata": {},
     "output_type": "execute_result"
    },
    {
     "data": {
      "image/png": "[encoded data removed]",
      "text/plain": [
       "<Figure size 432x288 with 1 Axes>"
      ]
     },
     "metadata": {
      "needs_background": "light"
     },
     "output_type": "display_data"
    }
   ],
   "source": [
    "plt.figure()\n",
    "plt.loglog(freq_p, map_data_p[0,:])\n",
    "plt.loglog(freq_q, map_data_q[0,:])\n",
    "plt.loglog(freq_r, map_data_r[0,:])"
   ]
  },
  {
   "cell_type": "code",
   "execution_count": 32,
   "metadata": {},
   "outputs": [],
   "source": [
    "# map_data.shape\n",
    "# plt.figure()\n",
    "# hp.mollview(map_data_p[:,0], nest=True, norm='log')\n",
    "# plt.figure()\n",
    "# hp.mollview(map_data_q[:,0], nest=True, norm='log')\n",
    "# plt.figure()\n",
    "# hp.mollview(map_data_r[:,0], nest=True, norm='log')"
   ]
  },
  {
   "cell_type": "code",
   "execution_count": null,
   "metadata": {},
   "outputs": [],
   "source": []
  }
 ],
 "metadata": {
  "kernelspec": {
   "display_name": "Python 3",
   "language": "python",
   "name": "python3"
  },
  "language_info": {
   "codemirror_mode": {
    "name": "ipython",
    "version": 3
   },
   "file_extension": ".py",
   "mimetype": "text/x-python",
   "name": "python",
   "nbconvert_exporter": "python",
   "pygments_lexer": "ipython3",
   "version": "3.7.3"
  }
 },
 "nbformat": 4,
 "nbformat_minor": 4
}
